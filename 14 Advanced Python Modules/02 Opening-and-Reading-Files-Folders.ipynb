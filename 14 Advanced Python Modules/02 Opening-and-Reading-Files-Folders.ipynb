{
 "cells": [
  {
   "cell_type": "markdown",
   "id": "d3c0d34a",
   "metadata": {},
   "source": [
    "---\n",
    "Opening-and-Reading-Files-Folders"
   ]
  },
  {
   "cell_type": "code",
   "execution_count": null,
   "id": "b6feadcd",
   "metadata": {},
   "outputs": [
    {
     "data": {
      "text/plain": [
       "'d:\\\\CODE\\\\Python\\\\14 Advanced Python Modules'"
      ]
     },
     "execution_count": 1,
     "metadata": {},
     "output_type": "execute_result"
    }
   ],
   "source": [
    "pwd"
   ]
  },
  {
   "cell_type": "code",
   "execution_count": 21,
   "id": "8dd7280b",
   "metadata": {},
   "outputs": [],
   "source": [
    "f = open('practice.txt', 'w+')\n",
    "f.write('This is a test string')\n",
    "f.close()"
   ]
  },
  {
   "cell_type": "markdown",
   "id": "36c3de8e",
   "metadata": {},
   "source": [
    "---\n",
    "OS Module"
   ]
  },
  {
   "cell_type": "code",
   "execution_count": 8,
   "id": "8a61f5d8",
   "metadata": {},
   "outputs": [],
   "source": [
    "import os"
   ]
  },
  {
   "cell_type": "code",
   "execution_count": 3,
   "id": "68ad0912",
   "metadata": {},
   "outputs": [
    {
     "data": {
      "text/plain": [
       "'d:\\\\CODE\\\\Python\\\\14 Advanced Python Modules'"
      ]
     },
     "execution_count": 3,
     "metadata": {},
     "output_type": "execute_result"
    }
   ],
   "source": [
    "os.getcwd()"
   ]
  },
  {
   "cell_type": "code",
   "execution_count": 4,
   "id": "fbfaaf56",
   "metadata": {},
   "outputs": [
    {
     "data": {
      "text/plain": [
       "['All Users', 'Default', 'Default User', 'desktop.ini', 'Public', 'sanja']"
      ]
     },
     "execution_count": 4,
     "metadata": {},
     "output_type": "execute_result"
    }
   ],
   "source": [
    "os.listdir('C:\\\\Users')"
   ]
  },
  {
   "cell_type": "code",
   "execution_count": 5,
   "id": "66843b18",
   "metadata": {},
   "outputs": [],
   "source": [
    "import shutil"
   ]
  },
  {
   "cell_type": "code",
   "execution_count": 19,
   "id": "355709ce",
   "metadata": {},
   "outputs": [
    {
     "data": {
      "text/plain": [
       "'d:\\\\Parth\\\\practice.txt'"
      ]
     },
     "execution_count": 19,
     "metadata": {},
     "output_type": "execute_result"
    }
   ],
   "source": [
    "shutil.move('practice.txt', 'd:\\\\Parth')"
   ]
  },
  {
   "cell_type": "code",
   "execution_count": 26,
   "id": "b05e7457",
   "metadata": {},
   "outputs": [
    {
     "data": {
      "text/plain": [
       "['Blockchain_Developer_Roadmap.pdf',\n",
       " 'Certifications',\n",
       " 'Complete-Python-3-Bootcamp-master',\n",
       " 'Documents',\n",
       " 'GAMING IMAGES',\n",
       " 'IMAGES',\n",
       " 'JOSE PORTILLA UDEMY COUPONS.docx',\n",
       " 'My Flies',\n",
       " 'practice.txt',\n",
       " 'Python_Internship_Roadmap.pdf',\n",
       " 'Python_to_Blockchain_Roadmap.pdf']"
      ]
     },
     "execution_count": 26,
     "metadata": {},
     "output_type": "execute_result"
    }
   ],
   "source": [
    "os.listdir('d:\\\\Parth')"
   ]
  },
  {
   "cell_type": "code",
   "execution_count": 23,
   "id": "3c1b1df4",
   "metadata": {},
   "outputs": [
    {
     "data": {
      "text/plain": [
       "'d:\\\\CODE\\\\practice.txt'"
      ]
     },
     "execution_count": 23,
     "metadata": {},
     "output_type": "execute_result"
    }
   ],
   "source": [
    "shutil.move('practice.txt', 'd:\\\\CODE')"
   ]
  },
  {
   "cell_type": "code",
   "execution_count": 27,
   "id": "28c10b6c",
   "metadata": {},
   "outputs": [
    {
     "data": {
      "text/plain": [
       "['Blockchain', 'Hackerrank', 'Java', 'practice.txt', 'Python', 'React', 'Rust']"
      ]
     },
     "execution_count": 27,
     "metadata": {},
     "output_type": "execute_result"
    }
   ],
   "source": [
    "os.listdir('d:\\\\CODE')"
   ]
  },
  {
   "cell_type": "code",
   "execution_count": 28,
   "id": "42e80319",
   "metadata": {},
   "outputs": [],
   "source": [
    "os.unlink('d:\\\\Parth\\practice.txt')"
   ]
  },
  {
   "cell_type": "code",
   "execution_count": 29,
   "id": "37acc250",
   "metadata": {},
   "outputs": [
    {
     "data": {
      "text/plain": [
       "['Blockchain_Developer_Roadmap.pdf',\n",
       " 'Certifications',\n",
       " 'Complete-Python-3-Bootcamp-master',\n",
       " 'Documents',\n",
       " 'GAMING IMAGES',\n",
       " 'IMAGES',\n",
       " 'JOSE PORTILLA UDEMY COUPONS.docx',\n",
       " 'My Flies',\n",
       " 'Python_Internship_Roadmap.pdf',\n",
       " 'Python_to_Blockchain_Roadmap.pdf']"
      ]
     },
     "execution_count": 29,
     "metadata": {},
     "output_type": "execute_result"
    }
   ],
   "source": [
    "os.listdir('d:\\\\Parth')"
   ]
  },
  {
   "cell_type": "code",
   "execution_count": 31,
   "id": "50af0387",
   "metadata": {},
   "outputs": [],
   "source": [
    "os.unlink('d:\\\\CODE\\practice.txt')"
   ]
  },
  {
   "cell_type": "code",
   "execution_count": 32,
   "id": "f890a7e0",
   "metadata": {},
   "outputs": [
    {
     "data": {
      "text/plain": [
       "['Blockchain', 'Hackerrank', 'Java', 'Python', 'React', 'Rust']"
      ]
     },
     "execution_count": 32,
     "metadata": {},
     "output_type": "execute_result"
    }
   ],
   "source": [
    "os.listdir('d:\\\\CODE')"
   ]
  },
  {
   "cell_type": "markdown",
   "id": "4e3cca1b",
   "metadata": {},
   "source": [
    "---\n",
    "OS Module - send2trash"
   ]
  },
  {
   "cell_type": "code",
   "execution_count": 6,
   "id": "03ff467c",
   "metadata": {},
   "outputs": [],
   "source": [
    "import send2trash"
   ]
  },
  {
   "cell_type": "code",
   "execution_count": 40,
   "id": "8331ab36",
   "metadata": {},
   "outputs": [],
   "source": [
    "f = open('python.txt','w+')\n",
    "f.write('This is a python file')\n",
    "f.close()"
   ]
  },
  {
   "cell_type": "code",
   "execution_count": 9,
   "id": "2f94f52c",
   "metadata": {},
   "outputs": [
    {
     "data": {
      "text/plain": [
       "['Collections.ipynb', 'Opening-and-Reading-Files-Folders.ipynb', 'python.txt']"
      ]
     },
     "execution_count": 9,
     "metadata": {},
     "output_type": "execute_result"
    }
   ],
   "source": [
    "os.listdir()"
   ]
  },
  {
   "cell_type": "code",
   "execution_count": 10,
   "id": "49fb95d1",
   "metadata": {},
   "outputs": [],
   "source": [
    "send2trash.send2trash('python.txt')"
   ]
  },
  {
   "cell_type": "code",
   "execution_count": 13,
   "id": "ec79da45",
   "metadata": {},
   "outputs": [
    {
     "data": {
      "text/plain": [
       "['Collections.ipynb', 'Opening-and-Reading-Files-Folders.ipynb', 'python.txt']"
      ]
     },
     "execution_count": 13,
     "metadata": {},
     "output_type": "execute_result"
    }
   ],
   "source": [
    "os.listdir()"
   ]
  },
  {
   "cell_type": "markdown",
   "id": "e81dbeeb",
   "metadata": {},
   "source": [
    "---\n",
    "OS Module - os.walk()"
   ]
  },
  {
   "cell_type": "code",
   "execution_count": 15,
   "id": "e108a534",
   "metadata": {},
   "outputs": [
    {
     "data": {
      "text/plain": [
       "'d:\\\\CODE\\\\Python\\\\14 Advanced Python Modules'"
      ]
     },
     "execution_count": 15,
     "metadata": {},
     "output_type": "execute_result"
    }
   ],
   "source": [
    "os.getcwd()"
   ]
  },
  {
   "cell_type": "code",
   "execution_count": 20,
   "id": "e9c758a2",
   "metadata": {},
   "outputs": [],
   "source": [
    "file_path = 'd:\\\\CODE\\\\Python\\\\14 Advanced Python Modules'"
   ]
  },
  {
   "cell_type": "code",
   "execution_count": 23,
   "id": "6cb6f2ad",
   "metadata": {},
   "outputs": [
    {
     "name": "stdout",
     "output_type": "stream",
     "text": [
      "Currently looking at d:\\CODE\\Python\\14 Advanced Python Modules\n",
      "\n",
      "\n",
      "The subfolders are: \n",
      "\t Subfolder: sample_folder-1\n",
      "\t Subfolder: sample_folder-2\n",
      "\n",
      "\n",
      "The files are: \n",
      "\t File: Collections.ipynb\n",
      "\t File: Opening-and-Reading-Files-Folders.ipynb\n",
      "\t File: python.txt\n",
      "\n",
      "\n",
      "Currently looking at d:\\CODE\\Python\\14 Advanced Python Modules\\sample_folder-1\n",
      "\n",
      "\n",
      "The subfolders are: \n",
      "\t Subfolder: Bottom_Level -1\n",
      "\n",
      "\n",
      "The files are: \n",
      "\t File: test1.txt\n",
      "\n",
      "\n",
      "Currently looking at d:\\CODE\\Python\\14 Advanced Python Modules\\sample_folder-1\\Bottom_Level -1\n",
      "\n",
      "\n",
      "The subfolders are: \n",
      "\n",
      "\n",
      "The files are: \n",
      "\n",
      "\n",
      "Currently looking at d:\\CODE\\Python\\14 Advanced Python Modules\\sample_folder-2\n",
      "\n",
      "\n",
      "The subfolders are: \n",
      "\t Subfolder: Bottom_Level -2\n",
      "\n",
      "\n",
      "The files are: \n",
      "\t File: test2.txt\n",
      "\n",
      "\n",
      "Currently looking at d:\\CODE\\Python\\14 Advanced Python Modules\\sample_folder-2\\Bottom_Level -2\n",
      "\n",
      "\n",
      "The subfolders are: \n",
      "\n",
      "\n",
      "The files are: \n",
      "\n",
      "\n"
     ]
    }
   ],
   "source": [
    "for folder, sub_folders, files in os.walk(file_path):\n",
    "    \n",
    "    print(f\"Currently looking at {folder}\")\n",
    "    print('\\n')\n",
    "    print('The subfolders are: ')\n",
    "    \n",
    "    for sub_fold in sub_folders:\n",
    "        print(f\"\\t Subfolder: {sub_fold}\")\n",
    "        \n",
    "    print('\\n')\n",
    "    print('The files are: ')\n",
    "    for f in files:\n",
    "        print(f\"\\t File: {f}\")\n",
    "    print('\\n')"
   ]
  },
  {
   "cell_type": "code",
   "execution_count": null,
   "id": "310f0798",
   "metadata": {},
   "outputs": [],
   "source": []
  }
 ],
 "metadata": {
  "kernelspec": {
   "display_name": "base",
   "language": "python",
   "name": "python3"
  },
  "language_info": {
   "codemirror_mode": {
    "name": "ipython",
    "version": 3
   },
   "file_extension": ".py",
   "mimetype": "text/x-python",
   "name": "python",
   "nbconvert_exporter": "python",
   "pygments_lexer": "ipython3",
   "version": "3.13.5"
  }
 },
 "nbformat": 4,
 "nbformat_minor": 5
}
