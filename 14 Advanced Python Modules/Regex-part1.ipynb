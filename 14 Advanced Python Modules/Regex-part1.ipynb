{
 "cells": [
  {
   "cell_type": "markdown",
   "id": "42300358",
   "metadata": {},
   "source": [
    "---\n",
    "Regex - Part-1"
   ]
  },
  {
   "cell_type": "code",
   "execution_count": 2,
   "id": "90b18381",
   "metadata": {},
   "outputs": [],
   "source": [
    "text = \"The agent's phone number is 123-456-7890. Call soon!\""
   ]
  },
  {
   "cell_type": "code",
   "execution_count": 3,
   "id": "0ec02535",
   "metadata": {},
   "outputs": [
    {
     "data": {
      "text/plain": [
       "True"
      ]
     },
     "execution_count": 3,
     "metadata": {},
     "output_type": "execute_result"
    }
   ],
   "source": [
    "'phone' in text"
   ]
  },
  {
   "cell_type": "code",
   "execution_count": 4,
   "id": "cdf04994",
   "metadata": {},
   "outputs": [],
   "source": [
    "import re"
   ]
  },
  {
   "cell_type": "code",
   "execution_count": 5,
   "id": "d2cfcff8",
   "metadata": {},
   "outputs": [],
   "source": [
    "pattern = 'phone'"
   ]
  },
  {
   "cell_type": "markdown",
   "id": "27ec1310",
   "metadata": {},
   "source": [
    "---\n",
    "Regex - search()"
   ]
  },
  {
   "cell_type": "code",
   "execution_count": 6,
   "id": "a540d7c6",
   "metadata": {},
   "outputs": [
    {
     "data": {
      "text/plain": [
       "<re.Match object; span=(12, 17), match='phone'>"
      ]
     },
     "execution_count": 6,
     "metadata": {},
     "output_type": "execute_result"
    }
   ],
   "source": [
    "re.search(pattern, text)"
   ]
  },
  {
   "cell_type": "code",
   "execution_count": 7,
   "id": "b43e8783",
   "metadata": {},
   "outputs": [],
   "source": [
    "pattern = 'Not in text'"
   ]
  },
  {
   "cell_type": "code",
   "execution_count": null,
   "id": "94e095db",
   "metadata": {},
   "outputs": [],
   "source": [
    "# No match found --> so nothing is printed in the output!\n",
    "re.search(pattern, text)"
   ]
  },
  {
   "cell_type": "code",
   "execution_count": 9,
   "id": "21f80621",
   "metadata": {},
   "outputs": [],
   "source": [
    "pattern = 'phone'"
   ]
  },
  {
   "cell_type": "code",
   "execution_count": 10,
   "id": "a030d2f3",
   "metadata": {},
   "outputs": [],
   "source": [
    "match = re.search(pattern, text)"
   ]
  },
  {
   "cell_type": "markdown",
   "id": "5d85bc31",
   "metadata": {},
   "source": [
    "---\n",
    "Regex - span()"
   ]
  },
  {
   "cell_type": "code",
   "execution_count": 11,
   "id": "e84f28bb",
   "metadata": {},
   "outputs": [
    {
     "data": {
      "text/plain": [
       "(12, 17)"
      ]
     },
     "execution_count": 11,
     "metadata": {},
     "output_type": "execute_result"
    }
   ],
   "source": [
    "match.span()"
   ]
  },
  {
   "cell_type": "markdown",
   "id": "c32405cf",
   "metadata": {},
   "source": [
    "---\n",
    "Regex - start()"
   ]
  },
  {
   "cell_type": "code",
   "execution_count": 12,
   "id": "5f04b56a",
   "metadata": {},
   "outputs": [
    {
     "data": {
      "text/plain": [
       "12"
      ]
     },
     "execution_count": 12,
     "metadata": {},
     "output_type": "execute_result"
    }
   ],
   "source": [
    "match.start()"
   ]
  },
  {
   "cell_type": "markdown",
   "id": "95c7aa3a",
   "metadata": {},
   "source": [
    "---\n",
    "Regex - end()"
   ]
  },
  {
   "cell_type": "code",
   "execution_count": 13,
   "id": "489f56bf",
   "metadata": {},
   "outputs": [
    {
     "data": {
      "text/plain": [
       "17"
      ]
     },
     "execution_count": 13,
     "metadata": {},
     "output_type": "execute_result"
    }
   ],
   "source": [
    "match.end()"
   ]
  },
  {
   "cell_type": "code",
   "execution_count": 14,
   "id": "bc6ffef1",
   "metadata": {},
   "outputs": [],
   "source": [
    "text = 'my phone once, my phone twice'"
   ]
  },
  {
   "cell_type": "code",
   "execution_count": 16,
   "id": "a157f01b",
   "metadata": {},
   "outputs": [],
   "source": [
    "match = re.search('phone', text)"
   ]
  },
  {
   "cell_type": "code",
   "execution_count": 17,
   "id": "68786428",
   "metadata": {},
   "outputs": [
    {
     "data": {
      "text/plain": [
       "<re.Match object; span=(3, 8), match='phone'>"
      ]
     },
     "execution_count": 17,
     "metadata": {},
     "output_type": "execute_result"
    }
   ],
   "source": [
    "match"
   ]
  },
  {
   "cell_type": "markdown",
   "id": "f391a9a4",
   "metadata": {},
   "source": [
    "---\n",
    "Regex - findall()"
   ]
  },
  {
   "cell_type": "code",
   "execution_count": 18,
   "id": "f10cf0d7",
   "metadata": {},
   "outputs": [],
   "source": [
    "matches = re.findall('phone', text)"
   ]
  },
  {
   "cell_type": "code",
   "execution_count": 19,
   "id": "12e26a4d",
   "metadata": {},
   "outputs": [
    {
     "data": {
      "text/plain": [
       "['phone', 'phone']"
      ]
     },
     "execution_count": 19,
     "metadata": {},
     "output_type": "execute_result"
    }
   ],
   "source": [
    "matches"
   ]
  },
  {
   "cell_type": "code",
   "execution_count": 20,
   "id": "af71413a",
   "metadata": {},
   "outputs": [
    {
     "data": {
      "text/plain": [
       "2"
      ]
     },
     "execution_count": 20,
     "metadata": {},
     "output_type": "execute_result"
    }
   ],
   "source": [
    "len(matches)"
   ]
  },
  {
   "cell_type": "markdown",
   "id": "6961db71",
   "metadata": {},
   "source": [
    "---\n",
    "Regex - finditer() & span()"
   ]
  },
  {
   "cell_type": "code",
   "execution_count": 27,
   "id": "dc9f9297",
   "metadata": {},
   "outputs": [
    {
     "name": "stdout",
     "output_type": "stream",
     "text": [
      "(3, 8)\n",
      "(18, 23)\n"
     ]
    }
   ],
   "source": [
    "# returns the starting and ending index --> (3, 8)\n",
    "#                                       --> (18, 23) \n",
    "for match in re.finditer('phone', text):\n",
    "    print(match.span())"
   ]
  },
  {
   "cell_type": "markdown",
   "id": "565168eb",
   "metadata": {},
   "source": [
    "---\n",
    "Regex - finditer() & group()"
   ]
  },
  {
   "cell_type": "code",
   "execution_count": 28,
   "id": "ce3fa5e6",
   "metadata": {},
   "outputs": [
    {
     "name": "stdout",
     "output_type": "stream",
     "text": [
      "phone\n",
      "phone\n"
     ]
    }
   ],
   "source": [
    "# returns actual stuff/text/value assigned to those indexes --> phone\n",
    "#                                                           --> phone \n",
    "for match in re.finditer('phone', text):\n",
    "    print(match.group())"
   ]
  }
 ],
 "metadata": {
  "kernelspec": {
   "display_name": "base",
   "language": "python",
   "name": "python3"
  },
  "language_info": {
   "codemirror_mode": {
    "name": "ipython",
    "version": 3
   },
   "file_extension": ".py",
   "mimetype": "text/x-python",
   "name": "python",
   "nbconvert_exporter": "python",
   "pygments_lexer": "ipython3",
   "version": "3.13.5"
  }
 },
 "nbformat": 4,
 "nbformat_minor": 5
}
