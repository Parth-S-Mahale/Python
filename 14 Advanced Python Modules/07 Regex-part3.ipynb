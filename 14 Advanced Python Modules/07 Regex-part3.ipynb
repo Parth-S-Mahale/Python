{
 "cells": [
  {
   "cell_type": "markdown",
   "id": "4f4cb92a",
   "metadata": {},
   "source": [
    "---\n",
    "Additional Regex Syntax"
   ]
  },
  {
   "cell_type": "code",
   "execution_count": 1,
   "id": "e986e779",
   "metadata": {},
   "outputs": [],
   "source": [
    "import re"
   ]
  },
  {
   "cell_type": "code",
   "execution_count": 2,
   "id": "350a5737",
   "metadata": {},
   "outputs": [
    {
     "data": {
      "text/plain": [
       "<re.Match object; span=(4, 7), match='cat'>"
      ]
     },
     "execution_count": 2,
     "metadata": {},
     "output_type": "execute_result"
    }
   ],
   "source": [
    "re.search(r'cat', 'The cat is here')"
   ]
  },
  {
   "cell_type": "code",
   "execution_count": 4,
   "id": "bb78728b",
   "metadata": {},
   "outputs": [],
   "source": [
    "# No match found --> so nothing is printed in the output\n",
    "re.search(r'cat', 'The dog is here')"
   ]
  },
  {
   "cell_type": "markdown",
   "id": "12e3dbd4",
   "metadata": {},
   "source": [
    "---\n",
    "Regex - Pipe operator --> |"
   ]
  },
  {
   "cell_type": "code",
   "execution_count": 5,
   "id": "f7744ee1",
   "metadata": {},
   "outputs": [
    {
     "data": {
      "text/plain": [
       "<re.Match object; span=(4, 8), match='cat '>"
      ]
     },
     "execution_count": 5,
     "metadata": {},
     "output_type": "execute_result"
    }
   ],
   "source": [
    "re.search(r'cat | dog', 'The cat is here')"
   ]
  },
  {
   "cell_type": "code",
   "execution_count": 6,
   "id": "8f7ab12c",
   "metadata": {},
   "outputs": [
    {
     "data": {
      "text/plain": [
       "<re.Match object; span=(3, 7), match=' dog'>"
      ]
     },
     "execution_count": 6,
     "metadata": {},
     "output_type": "execute_result"
    }
   ],
   "source": [
    "re.search(r'cat | dog', 'The dog is here')"
   ]
  },
  {
   "cell_type": "markdown",
   "id": "f420a2f7",
   "metadata": {},
   "source": [
    "---\n",
    "Regex - wild card operator --> ."
   ]
  },
  {
   "cell_type": "code",
   "execution_count": 8,
   "id": "146e2c34",
   "metadata": {},
   "outputs": [
    {
     "data": {
      "text/plain": [
       "['at', 'at', 'at']"
      ]
     },
     "execution_count": 8,
     "metadata": {},
     "output_type": "execute_result"
    }
   ],
   "source": [
    "re.findall(r'at', 'The cat in the hat sat there.')"
   ]
  },
  {
   "cell_type": "code",
   "execution_count": 11,
   "id": "e92dceca",
   "metadata": {},
   "outputs": [
    {
     "data": {
      "text/plain": [
       "['cat', 'hat', 'sat']"
      ]
     },
     "execution_count": 11,
     "metadata": {},
     "output_type": "execute_result"
    }
   ],
   "source": [
    "re.findall(r'.at', 'The cat in the hat sat there.')"
   ]
  },
  {
   "cell_type": "code",
   "execution_count": 13,
   "id": "d6043ef0",
   "metadata": {},
   "outputs": [
    {
     "data": {
      "text/plain": [
       "['e cat', 'e hat', 'splat']"
      ]
     },
     "execution_count": 13,
     "metadata": {},
     "output_type": "execute_result"
    }
   ],
   "source": [
    "re.findall(r'...at', 'The cat in the hat went splat.')"
   ]
  },
  {
   "cell_type": "markdown",
   "id": "a48a350e",
   "metadata": {},
   "source": [
    "---\n",
    "Regex - The string we are searching starts with a number!"
   ]
  },
  {
   "cell_type": "code",
   "execution_count": 15,
   "id": "35a759d3",
   "metadata": {},
   "outputs": [
    {
     "data": {
      "text/plain": [
       "['1']"
      ]
     },
     "execution_count": 15,
     "metadata": {},
     "output_type": "execute_result"
    }
   ],
   "source": [
    "# Remember --> This is for the entire string/text not for a number inside of this\n",
    "re.findall(r'^\\d', '1 is a number')"
   ]
  },
  {
   "cell_type": "code",
   "execution_count": 16,
   "id": "309bfd81",
   "metadata": {},
   "outputs": [
    {
     "data": {
      "text/plain": [
       "[]"
      ]
     },
     "execution_count": 16,
     "metadata": {},
     "output_type": "execute_result"
    }
   ],
   "source": [
    "# Remember --> This is for the entire string/text not for a number inside of this\n",
    "re.findall(r'^\\d', 'The 2 is a number')"
   ]
  },
  {
   "cell_type": "markdown",
   "id": "a2113987",
   "metadata": {},
   "source": [
    "---\n",
    "Regex - The string we are searching ends with a number!"
   ]
  },
  {
   "cell_type": "code",
   "execution_count": null,
   "id": "fd66f089",
   "metadata": {},
   "outputs": [
    {
     "data": {
      "text/plain": [
       "['2']"
      ]
     },
     "execution_count": 18,
     "metadata": {},
     "output_type": "execute_result"
    }
   ],
   "source": [
    "# Remember --> This is for the entire string/text not for a number inside of this\n",
    "re.findall('\\d$', 'The number is 2')"
   ]
  },
  {
   "cell_type": "code",
   "execution_count": null,
   "id": "d2f9fd2f",
   "metadata": {},
   "outputs": [
    {
     "data": {
      "text/plain": [
       "[]"
      ]
     },
     "execution_count": 19,
     "metadata": {},
     "output_type": "execute_result"
    }
   ],
   "source": [
    "# Remember --> This is for the entire string/text not for a number inside of this\n",
    "re.findall('\\d$', 'The number 2 is even')"
   ]
  },
  {
   "cell_type": "markdown",
   "id": "86a2d2a5",
   "metadata": {},
   "source": [
    "---\n",
    "Regex - Exclude numbers, punctuations and other stuff"
   ]
  },
  {
   "cell_type": "code",
   "execution_count": 24,
   "id": "5d87933f",
   "metadata": {},
   "outputs": [],
   "source": [
    "phrase = 'there are 3 numbers 34 inside 5 this sentence'"
   ]
  },
  {
   "cell_type": "code",
   "execution_count": 25,
   "id": "2d4c76d3",
   "metadata": {},
   "outputs": [],
   "source": [
    "pattern = r'[^\\d]+'"
   ]
  },
  {
   "cell_type": "code",
   "execution_count": 26,
   "id": "a4a4f242",
   "metadata": {},
   "outputs": [
    {
     "data": {
      "text/plain": [
       "['there are ', ' numbers ', ' inside ', ' this sentence']"
      ]
     },
     "execution_count": 26,
     "metadata": {},
     "output_type": "execute_result"
    }
   ],
   "source": [
    "re.findall(pattern, phrase)"
   ]
  },
  {
   "cell_type": "code",
   "execution_count": 28,
   "id": "8f60d942",
   "metadata": {},
   "outputs": [],
   "source": [
    "test_phrase = 'This is a string! But it has punctuation. How can we remove it?'"
   ]
  },
  {
   "cell_type": "code",
   "execution_count": 31,
   "id": "d593f7c9",
   "metadata": {},
   "outputs": [],
   "source": [
    "clean_phrase = re.findall(r'[^!.? ]+', test_phrase)"
   ]
  },
  {
   "cell_type": "code",
   "execution_count": 32,
   "id": "427faca3",
   "metadata": {},
   "outputs": [
    {
     "data": {
      "text/plain": [
       "['This',\n",
       " 'is',\n",
       " 'a',\n",
       " 'string',\n",
       " 'But',\n",
       " 'it',\n",
       " 'has',\n",
       " 'punctuation',\n",
       " 'How',\n",
       " 'can',\n",
       " 'we',\n",
       " 'remove',\n",
       " 'it']"
      ]
     },
     "execution_count": 32,
     "metadata": {},
     "output_type": "execute_result"
    }
   ],
   "source": [
    "clean_phrase"
   ]
  },
  {
   "cell_type": "markdown",
   "id": "775656d5",
   "metadata": {},
   "source": [
    "---\n",
    "Way of printing the output in normal format is Here!!! --> ' '.join(variable)"
   ]
  },
  {
   "cell_type": "code",
   "execution_count": 34,
   "id": "0afd0054",
   "metadata": {},
   "outputs": [
    {
     "data": {
      "text/plain": [
       "'This is a string But it has punctuation How can we remove it'"
      ]
     },
     "execution_count": 34,
     "metadata": {},
     "output_type": "execute_result"
    }
   ],
   "source": [
    "' '.join(clean_phrase)"
   ]
  },
  {
   "cell_type": "markdown",
   "id": "c6edfbc9",
   "metadata": {},
   "source": [
    "---\n",
    "Regex - Include numbers, punctuations and other stuff"
   ]
  },
  {
   "cell_type": "code",
   "execution_count": 56,
   "id": "dfc71e33",
   "metadata": {},
   "outputs": [],
   "source": [
    "text = 'Only find the hypen-words in this sentence. But you do not know how long-ish they are?'"
   ]
  },
  {
   "cell_type": "code",
   "execution_count": 57,
   "id": "da00e437",
   "metadata": {},
   "outputs": [],
   "source": [
    "pattern = r'[\\w]+-[\\w]+'"
   ]
  },
  {
   "cell_type": "code",
   "execution_count": 58,
   "id": "9f16e2e8",
   "metadata": {},
   "outputs": [
    {
     "data": {
      "text/plain": [
       "['hypen-words', 'long-ish']"
      ]
     },
     "execution_count": 58,
     "metadata": {},
     "output_type": "execute_result"
    }
   ],
   "source": [
    "re.findall(pattern, text)"
   ]
  },
  {
   "cell_type": "markdown",
   "id": "eac7218b",
   "metadata": {},
   "source": [
    "---\n",
    "Regex - Multiple phrases reading!"
   ]
  },
  {
   "cell_type": "code",
   "execution_count": 59,
   "id": "8cf5c636",
   "metadata": {},
   "outputs": [],
   "source": [
    "text = 'Hello, would you like some catfish?'\n",
    "texttwo = 'Hello, would you like to take a catnap?'\n",
    "textthree = 'Hello, have you seen this caterpillar?'"
   ]
  },
  {
   "cell_type": "code",
   "execution_count": 60,
   "id": "954af865",
   "metadata": {},
   "outputs": [
    {
     "data": {
      "text/plain": [
       "<re.Match object; span=(27, 34), match='catfish'>"
      ]
     },
     "execution_count": 60,
     "metadata": {},
     "output_type": "execute_result"
    }
   ],
   "source": [
    "re.search(r'cat(fish|nap|claw)', text)"
   ]
  },
  {
   "cell_type": "code",
   "execution_count": 62,
   "id": "b8c80cd1",
   "metadata": {},
   "outputs": [
    {
     "data": {
      "text/plain": [
       "<re.Match object; span=(32, 38), match='catnap'>"
      ]
     },
     "execution_count": 62,
     "metadata": {},
     "output_type": "execute_result"
    }
   ],
   "source": [
    "re.search(r'cat(fish|nap|claw)', texttwo)"
   ]
  },
  {
   "cell_type": "code",
   "execution_count": null,
   "id": "15a62079",
   "metadata": {},
   "outputs": [],
   "source": [
    "# No match found!\n",
    "re.search(r'cat(fish|nap|claw)', textthree)"
   ]
  },
  {
   "cell_type": "code",
   "execution_count": 65,
   "id": "7602f42e",
   "metadata": {},
   "outputs": [
    {
     "data": {
      "text/plain": [
       "<re.Match object; span=(26, 37), match='caterpillar'>"
      ]
     },
     "execution_count": 65,
     "metadata": {},
     "output_type": "execute_result"
    }
   ],
   "source": [
    "re.search(r'cat(fish|nap|erpillar)', textthree)"
   ]
  },
  {
   "cell_type": "code",
   "execution_count": null,
   "id": "50280ae3",
   "metadata": {},
   "outputs": [],
   "source": []
  }
 ],
 "metadata": {
  "kernelspec": {
   "display_name": "base",
   "language": "python",
   "name": "python3"
  },
  "language_info": {
   "codemirror_mode": {
    "name": "ipython",
    "version": 3
   },
   "file_extension": ".py",
   "mimetype": "text/x-python",
   "name": "python",
   "nbconvert_exporter": "python",
   "pygments_lexer": "ipython3",
   "version": "3.13.5"
  }
 },
 "nbformat": 4,
 "nbformat_minor": 5
}
