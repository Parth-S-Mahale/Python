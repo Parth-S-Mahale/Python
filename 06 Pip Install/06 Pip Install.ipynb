{
 "cells": [
  {
   "cell_type": "markdown",
   "id": "804a0353",
   "metadata": {},
   "source": [
    "---\n",
    "pip"
   ]
  },
  {
   "cell_type": "markdown",
   "id": "2feab6bd",
   "metadata": {},
   "source": [
    "---\n",
    "Example: \n",
    "\n",
    "pip install requests\n",
    "\n",
    "pip install colorama\n",
    "\n",
    "pip install openpyxl"
   ]
  },
  {
   "cell_type": "code",
   "execution_count": 3,
   "id": "2888d462",
   "metadata": {},
   "outputs": [
    {
     "name": "stdout",
     "output_type": "stream",
     "text": [
      "some red text\n"
     ]
    }
   ],
   "source": [
    "from colorama import init\n",
    "init()\n",
    "from colorama import Fore\n",
    "print(Fore.RED + \"some red text\")"
   ]
  },
  {
   "cell_type": "code",
   "execution_count": null,
   "id": "4e345a65",
   "metadata": {},
   "outputs": [],
   "source": []
  }
 ],
 "metadata": {
  "kernelspec": {
   "display_name": "base",
   "language": "python",
   "name": "python3"
  },
  "language_info": {
   "codemirror_mode": {
    "name": "ipython",
    "version": 3
   },
   "file_extension": ".py",
   "mimetype": "text/x-python",
   "name": "python",
   "nbconvert_exporter": "python",
   "pygments_lexer": "ipython3",
   "version": "3.13.5"
  }
 },
 "nbformat": 4,
 "nbformat_minor": 5
}
