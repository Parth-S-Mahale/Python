{
 "cells": [
  {
   "cell_type": "markdown",
   "id": "b180ec84",
   "metadata": {},
   "source": [
    "Errors & Exceptional Handling"
   ]
  },
  {
   "cell_type": "code",
   "execution_count": 1,
   "id": "995553e3",
   "metadata": {},
   "outputs": [],
   "source": [
    "def add(n1, n2):\n",
    "    print(n1+n2)"
   ]
  },
  {
   "cell_type": "code",
   "execution_count": 2,
   "id": "1116601f",
   "metadata": {},
   "outputs": [
    {
     "name": "stdout",
     "output_type": "stream",
     "text": [
      "30\n"
     ]
    }
   ],
   "source": [
    "add(10, 20)"
   ]
  },
  {
   "cell_type": "code",
   "execution_count": 3,
   "id": "6c758443",
   "metadata": {},
   "outputs": [],
   "source": [
    "number1 = 10"
   ]
  },
  {
   "cell_type": "code",
   "execution_count": null,
   "id": "6302f6cb",
   "metadata": {},
   "outputs": [],
   "source": [
    "number2 = input(\"Please provide a number\")"
   ]
  },
  {
   "cell_type": "code",
   "execution_count": 7,
   "id": "1ac68109",
   "metadata": {},
   "outputs": [
    {
     "ename": "TypeError",
     "evalue": "unsupported operand type(s) for +: 'int' and 'str'",
     "output_type": "error",
     "traceback": [
      "\u001b[1;31m---------------------------------------------------------------------------\u001b[0m",
      "\u001b[1;31mTypeError\u001b[0m                                 Traceback (most recent call last)",
      "Cell \u001b[1;32mIn[7], line 1\u001b[0m\n\u001b[1;32m----> 1\u001b[0m add(number1, number2)\n\u001b[0;32m      2\u001b[0m \u001b[38;5;28mprint\u001b[39m(\u001b[38;5;124m\"\u001b[39m\u001b[38;5;124mSomething happened!\u001b[39m\u001b[38;5;124m\"\u001b[39m)\n",
      "Cell \u001b[1;32mIn[1], line 2\u001b[0m, in \u001b[0;36madd\u001b[1;34m(n1, n2)\u001b[0m\n\u001b[0;32m      1\u001b[0m \u001b[38;5;28;01mdef\u001b[39;00m\u001b[38;5;250m \u001b[39m\u001b[38;5;21madd\u001b[39m(n1, n2):\n\u001b[1;32m----> 2\u001b[0m     \u001b[38;5;28mprint\u001b[39m(n1\u001b[38;5;241m+\u001b[39mn2)\n",
      "\u001b[1;31mTypeError\u001b[0m: unsupported operand type(s) for +: 'int' and 'str'"
     ]
    }
   ],
   "source": [
    "add(number1, number2)\n",
    "print(\"Something happened!\")"
   ]
  },
  {
   "cell_type": "code",
   "execution_count": 13,
   "id": "4512cc41",
   "metadata": {},
   "outputs": [
    {
     "name": "stdout",
     "output_type": "stream",
     "text": [
      "Hey it looks like you aren't adding correctly!\n"
     ]
    }
   ],
   "source": [
    "try: \n",
    "    # WANT TO ATTEMPT THIS CODE\n",
    "    # MAY HAVE AN ERROR\n",
    "    result = 10 + '10'\n",
    "except:\n",
    "    print(\"Hey it looks like you aren't adding correctly!\")"
   ]
  },
  {
   "cell_type": "code",
   "execution_count": 14,
   "id": "5e92db26",
   "metadata": {},
   "outputs": [
    {
     "data": {
      "text/plain": [
       "20"
      ]
     },
     "execution_count": 14,
     "metadata": {},
     "output_type": "execute_result"
    }
   ],
   "source": [
    "result"
   ]
  },
  {
   "cell_type": "code",
   "execution_count": 15,
   "id": "bb694bfe",
   "metadata": {},
   "outputs": [
    {
     "name": "stdout",
     "output_type": "stream",
     "text": [
      "Add went well!\n",
      "20\n"
     ]
    }
   ],
   "source": [
    "try: \n",
    "    # WANT TO ATTEMPT THIS CODE\n",
    "    # MAY HAVE AN ERROR\n",
    "    result = 10 + 10\n",
    "except:\n",
    "    print(\"Hey it looks like you aren't adding correctly!\")\n",
    "else:\n",
    "    print(\"Add went well!\")\n",
    "    print(result)"
   ]
  },
  {
   "cell_type": "code",
   "execution_count": 20,
   "id": "9350a052",
   "metadata": {},
   "outputs": [
    {
     "name": "stdout",
     "output_type": "stream",
     "text": [
      "I always run\n"
     ]
    }
   ],
   "source": [
    "try:\n",
    "    f = open('testfile', 'w')\n",
    "    f.write(\"Write a test line\")\n",
    "\n",
    "# except TypeError:\n",
    "#     print(\"There was a type error!\")\n",
    "\n",
    "# except OSError:\n",
    "#     print(\"Hey you have an OS Error\")\n",
    "\n",
    "except:\n",
    "    print(\"All other exceptions!\")\n",
    "\n",
    "finally:\n",
    "    print(\"I always run\")"
   ]
  },
  {
   "cell_type": "code",
   "execution_count": 46,
   "id": "8b49de60",
   "metadata": {},
   "outputs": [],
   "source": [
    "def ask_for_int():\n",
    "    while True:\n",
    "        try:\n",
    "            result = int(input(\"Please provide number: \"))\n",
    "        except:\n",
    "            print(\"Whoops! That is not a number\")\n",
    "            continue\n",
    "        else: \n",
    "            print(\"Yes thank you\")\n",
    "            break"
   ]
  },
  {
   "cell_type": "code",
   "execution_count": 47,
   "id": "5ef5c507",
   "metadata": {},
   "outputs": [
    {
     "name": "stdout",
     "output_type": "stream",
     "text": [
      "Whoops! That is not a number\n",
      "Yes thank you\n"
     ]
    }
   ],
   "source": [
    "ask_for_int()"
   ]
  },
  {
   "cell_type": "code",
   "execution_count": null,
   "id": "225fe611",
   "metadata": {},
   "outputs": [],
   "source": []
  }
 ],
 "metadata": {
  "kernelspec": {
   "display_name": "base",
   "language": "python",
   "name": "python3"
  },
  "language_info": {
   "codemirror_mode": {
    "name": "ipython",
    "version": 3
   },
   "file_extension": ".py",
   "mimetype": "text/x-python",
   "name": "python",
   "nbconvert_exporter": "python",
   "pygments_lexer": "ipython3",
   "version": "3.13.5"
  }
 },
 "nbformat": 4,
 "nbformat_minor": 5
}
