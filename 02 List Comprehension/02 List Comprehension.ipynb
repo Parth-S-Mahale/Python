{
 "cells": [
  {
   "cell_type": "markdown",
   "id": "096363b1",
   "metadata": {},
   "source": [
    "---\n",
    "List Comprehension"
   ]
  },
  {
   "cell_type": "code",
   "execution_count": 1,
   "id": "6b3b687e",
   "metadata": {},
   "outputs": [
    {
     "data": {
      "text/plain": [
       "['h', 'e', 'l', 'l', 'o']"
      ]
     },
     "execution_count": 1,
     "metadata": {},
     "output_type": "execute_result"
    }
   ],
   "source": [
    "myString = \"hello\"\n",
    "myList = [letter for letter in myString]\n",
    "myList"
   ]
  },
  {
   "cell_type": "code",
   "execution_count": 2,
   "id": "7d5b992b",
   "metadata": {},
   "outputs": [
    {
     "data": {
      "text/plain": [
       "[0, 1, 4, 9, 16, 25, 36, 49, 64, 81, 100]"
      ]
     },
     "execution_count": 2,
     "metadata": {},
     "output_type": "execute_result"
    }
   ],
   "source": [
    "myList = [num ** 2 for num in range(0, 11)]\n",
    "myList"
   ]
  },
  {
   "cell_type": "code",
   "execution_count": 3,
   "id": "2cc518ff",
   "metadata": {},
   "outputs": [
    {
     "data": {
      "text/plain": [
       "[0, 2, 4, 6, 8, 10]"
      ]
     },
     "execution_count": 3,
     "metadata": {},
     "output_type": "execute_result"
    }
   ],
   "source": [
    "myList = [num for num in range(0, 11) if num % 2 == 0]\n",
    "myList"
   ]
  },
  {
   "cell_type": "code",
   "execution_count": 4,
   "id": "483c730f",
   "metadata": {},
   "outputs": [
    {
     "data": {
      "text/plain": [
       "[32.0, 50.0, 68.0, 94.1]"
      ]
     },
     "execution_count": 4,
     "metadata": {},
     "output_type": "execute_result"
    }
   ],
   "source": [
    "# Degree celsius to fahrenheit\n",
    "celsius = [0, 10, 20 , 34.5]\n",
    "fahrenheit = [((9/5) * temp + 32) for temp in celsius]\n",
    "fahrenheit"
   ]
  },
  {
   "cell_type": "code",
   "execution_count": 5,
   "id": "3edc825f",
   "metadata": {},
   "outputs": [
    {
     "data": {
      "text/plain": [
       "[0.0, 10.0, 20.0, 34.5]"
      ]
     },
     "execution_count": 5,
     "metadata": {},
     "output_type": "execute_result"
    }
   ],
   "source": [
    "# Degree fahrenheit to celsius\n",
    "fahrenheit = [32.0, 50.0, 68.0, 94.1]\n",
    "celsius = [((5/9) * (temp - 32)) for temp in fahrenheit]\n",
    "celsius"
   ]
  },
  {
   "cell_type": "code",
   "execution_count": 6,
   "id": "5d0ddecf",
   "metadata": {},
   "outputs": [
    {
     "data": {
      "text/plain": [
       "[0, 'ODD', 2, 'ODD', 4, 'ODD', 6, 'ODD', 8, 'ODD', 10]"
      ]
     },
     "execution_count": 6,
     "metadata": {},
     "output_type": "execute_result"
    }
   ],
   "source": [
    "# Intermediate Level list comprehension\n",
    "myList = [x if x % 2 == 0 else 'ODD' for x in range(0, 11)]\n",
    "myList"
   ]
  },
  {
   "cell_type": "code",
   "execution_count": 7,
   "id": "0400d95b",
   "metadata": {},
   "outputs": [
    {
     "data": {
      "text/plain": [
       "[400, 800, 1200, 800, 1600, 2400, 1200, 2400, 3600]"
      ]
     },
     "execution_count": 7,
     "metadata": {},
     "output_type": "execute_result"
    }
   ],
   "source": [
    "# using for loop\n",
    "myList = []\n",
    "for x in [2, 4, 6]:\n",
    "    for y in [200, 400, 600]:\n",
    "        myList.append(x * y)\n",
    "myList"
   ]
  },
  {
   "cell_type": "code",
   "execution_count": 8,
   "id": "156c9920",
   "metadata": {},
   "outputs": [
    {
     "data": {
      "text/plain": [
       "[400, 800, 1200, 800, 1600, 2400, 1200, 2400, 3600]"
      ]
     },
     "execution_count": 8,
     "metadata": {},
     "output_type": "execute_result"
    }
   ],
   "source": [
    "# using list comprehension\n",
    "myList = [x * y for x in [2, 4, 6] for y in [200, 400, 600]]\n",
    "myList"
   ]
  }
 ],
 "metadata": {
  "kernelspec": {
   "display_name": "base",
   "language": "python",
   "name": "python3"
  },
  "language_info": {
   "codemirror_mode": {
    "name": "ipython",
    "version": 3
   },
   "file_extension": ".py",
   "mimetype": "text/x-python",
   "name": "python",
   "nbconvert_exporter": "python",
   "pygments_lexer": "ipython3",
   "version": "3.13.5"
  }
 },
 "nbformat": 4,
 "nbformat_minor": 5
}
