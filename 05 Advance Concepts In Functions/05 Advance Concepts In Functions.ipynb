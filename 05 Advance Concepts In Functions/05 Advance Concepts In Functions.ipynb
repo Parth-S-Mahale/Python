{
 "cells": [
  {
   "cell_type": "markdown",
   "id": "5c882f98",
   "metadata": {},
   "source": [
    "---\n",
    "Tuple unpacking"
   ]
  },
  {
   "cell_type": "code",
   "execution_count": 3,
   "id": "9d41cfb8",
   "metadata": {},
   "outputs": [
    {
     "name": "stdout",
     "output_type": "stream",
     "text": [
      "('APPLE', 200)\n",
      "('GOOGLE', 400)\n",
      "('MSFT', 600)\n"
     ]
    }
   ],
   "source": [
    "stock_prices = [\n",
    "    ('APPLE', 200),\n",
    "    ('GOOGLE', 400),\n",
    "    ('MSFT', 600)\n",
    "]\n",
    "\n",
    "for item in stock_prices:\n",
    "    print(item)"
   ]
  },
  {
   "cell_type": "code",
   "execution_count": 4,
   "id": "cb4f2824",
   "metadata": {},
   "outputs": [
    {
     "name": "stdout",
     "output_type": "stream",
     "text": [
      "220.0\n",
      "440.0\n",
      "660.0\n"
     ]
    }
   ],
   "source": [
    "for ticker, price in stock_prices:\n",
    "    print(price + (0.1 * price))"
   ]
  },
  {
   "cell_type": "code",
   "execution_count": 5,
   "id": "3cd919d7",
   "metadata": {},
   "outputs": [
    {
     "name": "stdout",
     "output_type": "stream",
     "text": [
      "APPLE\n",
      "GOOGLE\n",
      "MSFT\n"
     ]
    }
   ],
   "source": [
    "for ticker, price in stock_prices:\n",
    "    print(ticker)"
   ]
  },
  {
   "cell_type": "markdown",
   "id": "d343fe2f",
   "metadata": {},
   "source": [
    "---\n",
    "Intermediate level tuple unpacking"
   ]
  },
  {
   "cell_type": "code",
   "execution_count": 6,
   "id": "32c52d96",
   "metadata": {},
   "outputs": [],
   "source": [
    "work_hours = [\n",
    "    ('Abby', 100),\n",
    "    ('Billy', 400),\n",
    "    ('Cassie', 800)\n",
    "]\n",
    "\n",
    "def employee_check(work_hours):\n",
    "    current_hours = 0\n",
    "    employee_of_the_month = ''\n",
    "    \n",
    "    for employee,hours in work_hours:\n",
    "        if hours > current_hours:\n",
    "            current_hours = hours\n",
    "            employee_of_the_month = employee\n",
    "        else: \n",
    "            pass\n",
    "        \n",
    "    return (employee_of_the_month, current_hours)    "
   ]
  },
  {
   "cell_type": "code",
   "execution_count": 11,
   "id": "f365e972",
   "metadata": {},
   "outputs": [],
   "source": [
    "result = employee_check(work_hours)"
   ]
  },
  {
   "cell_type": "code",
   "execution_count": 12,
   "id": "76bf34d7",
   "metadata": {},
   "outputs": [
    {
     "data": {
      "text/plain": [
       "('Cassie', 800)"
      ]
     },
     "execution_count": 12,
     "metadata": {},
     "output_type": "execute_result"
    }
   ],
   "source": [
    "result"
   ]
  },
  {
   "cell_type": "markdown",
   "id": "a589b84a",
   "metadata": {},
   "source": [
    "OR like this -->"
   ]
  },
  {
   "cell_type": "code",
   "execution_count": 13,
   "id": "231fe182",
   "metadata": {},
   "outputs": [],
   "source": [
    "name, hours = employee_check(work_hours)"
   ]
  },
  {
   "cell_type": "code",
   "execution_count": 14,
   "id": "d055e482",
   "metadata": {},
   "outputs": [
    {
     "data": {
      "text/plain": [
       "('Cassie', 800)"
      ]
     },
     "execution_count": 14,
     "metadata": {},
     "output_type": "execute_result"
    }
   ],
   "source": [
    "result"
   ]
  },
  {
   "cell_type": "code",
   "execution_count": 15,
   "id": "a60b57e1",
   "metadata": {},
   "outputs": [
    {
     "data": {
      "text/plain": [
       "'Cassie'"
      ]
     },
     "execution_count": 15,
     "metadata": {},
     "output_type": "execute_result"
    }
   ],
   "source": [
    "name"
   ]
  },
  {
   "cell_type": "code",
   "execution_count": 16,
   "id": "89a2748b",
   "metadata": {},
   "outputs": [
    {
     "data": {
      "text/plain": [
       "800"
      ]
     },
     "execution_count": 16,
     "metadata": {},
     "output_type": "execute_result"
    }
   ],
   "source": [
    "hours"
   ]
  },
  {
   "cell_type": "markdown",
   "id": "2a1c5c75",
   "metadata": {},
   "source": [
    "---\n",
    "Interactions between python functions"
   ]
  },
  {
   "cell_type": "code",
   "execution_count": 20,
   "id": "05839b19",
   "metadata": {},
   "outputs": [
    {
     "data": {
      "text/plain": [
       "[7, 1, 3, 2, 6, 5, 4]"
      ]
     },
     "execution_count": 20,
     "metadata": {},
     "output_type": "execute_result"
    }
   ],
   "source": [
    "from random import shuffle\n",
    "\n",
    "example = [1, 2, 3, 4, 5, 6, 7]\n",
    "shuffle(example)\n",
    "example"
   ]
  },
  {
   "cell_type": "markdown",
   "id": "abf0464a",
   "metadata": {},
   "source": [
    "---\n",
    "Concept: *args and **kwargs"
   ]
  },
  {
   "cell_type": "markdown",
   "id": "89b1f9db",
   "metadata": {},
   "source": [
    "---\n",
    "*args --> (tuple) : In '*args', the * indicates that the user can pass as many arguments he/she want."
   ]
  },
  {
   "cell_type": "code",
   "execution_count": 28,
   "id": "61eeb39b",
   "metadata": {},
   "outputs": [],
   "source": [
    "def func(*args):\n",
    "    print(args)\n",
    "    return sum(args) * 0.05"
   ]
  },
  {
   "cell_type": "code",
   "execution_count": 29,
   "id": "03bfe546",
   "metadata": {},
   "outputs": [
    {
     "name": "stdout",
     "output_type": "stream",
     "text": [
      "(40, 60, 100, 1, 34)\n"
     ]
    },
    {
     "data": {
      "text/plain": [
       "11.75"
      ]
     },
     "execution_count": 29,
     "metadata": {},
     "output_type": "execute_result"
    }
   ],
   "source": [
    "func(40, 60, 100, 1, 34)"
   ]
  },
  {
   "cell_type": "code",
   "execution_count": 30,
   "id": "018ebd1c",
   "metadata": {},
   "outputs": [],
   "source": [
    "def myFunc(*args):\n",
    "    return [arg for arg in args if arg % 2 == 0]"
   ]
  },
  {
   "cell_type": "code",
   "execution_count": 31,
   "id": "14463d6a",
   "metadata": {},
   "outputs": [
    {
     "data": {
      "text/plain": [
       "[6, 8]"
      ]
     },
     "execution_count": 31,
     "metadata": {},
     "output_type": "execute_result"
    }
   ],
   "source": [
    "myFunc(5, 6, 7, 8)"
   ]
  },
  {
   "cell_type": "markdown",
   "id": "6674852f",
   "metadata": {},
   "source": [
    "---\n",
    "**kwargs --> (dictionary) : It works like a dictionary, if we mention a key as the input --> we get its value as the output"
   ]
  },
  {
   "cell_type": "code",
   "execution_count": 34,
   "id": "1c50e3ba",
   "metadata": {},
   "outputs": [],
   "source": [
    "def myFunc(**kwargs):\n",
    "    print(kwargs)\n",
    "    \n",
    "    if 'fruit' in kwargs:\n",
    "        print(\"My fruit of choice is {}\".format(kwargs['fruit']))\n",
    "    else:\n",
    "        print(\"I did not found any fruit here\")"
   ]
  },
  {
   "cell_type": "code",
   "execution_count": 35,
   "id": "677e38ed",
   "metadata": {},
   "outputs": [
    {
     "name": "stdout",
     "output_type": "stream",
     "text": [
      "{'fruit': 'Apple', 'veggie': 'lettuce'}\n",
      "My fruit of choice is Apple\n"
     ]
    }
   ],
   "source": [
    "myFunc(fruit = 'Apple', veggie = 'lettuce')"
   ]
  },
  {
   "cell_type": "markdown",
   "id": "308fa1a8",
   "metadata": {},
   "source": [
    "---\n",
    "Functions #10: skyline\n",
    "\n",
    "Define a function called myfunc that takes in a string, and returns a matching string where every even letter is uppercase, and every odd letter is lowercase. Assume that the incoming string only contains letters, and don't worry about numbers, spaces or punctuation. The output string can start with either an uppercase or lowercase letter, so long a"
   ]
  },
  {
   "cell_type": "code",
   "execution_count": 38,
   "id": "e783a024",
   "metadata": {},
   "outputs": [],
   "source": [
    "def myFunc(input_string):\n",
    "    result = ''\n",
    "    for i in range(len(input_string)):\n",
    "        if i % 2 == 0:\n",
    "            result += input_string[i].upper()\n",
    "        else:\n",
    "            result += input_string[i].lower()\n",
    "    \n",
    "    return result"
   ]
  },
  {
   "cell_type": "code",
   "execution_count": 39,
   "id": "616dbb5c",
   "metadata": {},
   "outputs": [
    {
     "data": {
      "text/plain": [
       "'PaRtH'"
      ]
     },
     "execution_count": 39,
     "metadata": {},
     "output_type": "execute_result"
    }
   ],
   "source": [
    "myFunc(input(\"Enter a string\"))"
   ]
  },
  {
   "cell_type": "markdown",
   "id": "b96350cd",
   "metadata": {},
   "source": [
    "---\n",
    ".join( ) method --> built-in python stuff"
   ]
  },
  {
   "cell_type": "code",
   "execution_count": 72,
   "id": "c335f10d",
   "metadata": {},
   "outputs": [],
   "source": [
    "def master_yoda(text):\n",
    "    wordList = text.split()\n",
    "    reversed_word_list = wordList[ : : -1]\n",
    "    return ' '.join(reversed_word_list) "
   ]
  },
  {
   "cell_type": "code",
   "execution_count": 73,
   "id": "9c702806",
   "metadata": {},
   "outputs": [
    {
     "data": {
      "text/plain": [
       "'parth am I'"
      ]
     },
     "execution_count": 73,
     "metadata": {},
     "output_type": "execute_result"
    }
   ],
   "source": [
    "master_yoda(\"I am parth\")"
   ]
  },
  {
   "cell_type": "code",
   "execution_count": null,
   "id": "d3a8fa30",
   "metadata": {},
   "outputs": [],
   "source": []
  }
 ],
 "metadata": {
  "kernelspec": {
   "display_name": "base",
   "language": "python",
   "name": "python3"
  },
  "language_info": {
   "codemirror_mode": {
    "name": "ipython",
    "version": 3
   },
   "file_extension": ".py",
   "mimetype": "text/x-python",
   "name": "python",
   "nbconvert_exporter": "python",
   "pygments_lexer": "ipython3",
   "version": "3.13.5"
  }
 },
 "nbformat": 4,
 "nbformat_minor": 5
}
