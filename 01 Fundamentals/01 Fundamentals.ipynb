{
 "cells": [
  {
   "cell_type": "markdown",
   "id": "021b6024",
   "metadata": {},
   "source": [
    "---\n",
    "Fundamentals of python"
   ]
  },
  {
   "cell_type": "code",
   "execution_count": 1,
   "id": "ebf7c19a",
   "metadata": {},
   "outputs": [
    {
     "name": "stdout",
     "output_type": "stream",
     "text": [
      "Hello, World!\n"
     ]
    }
   ],
   "source": [
    "print(\"Hello, World!\")"
   ]
  },
  {
   "cell_type": "code",
   "execution_count": 5,
   "id": "29299b2a",
   "metadata": {},
   "outputs": [
    {
     "name": "stdout",
     "output_type": "stream",
     "text": [
      "Not eligible to vote\n"
     ]
    }
   ],
   "source": [
    "age = int(input(\"Enter your age: \"))\n",
    "if(age < 18) :\n",
    "    print(\"Not eligible to vote\")\n",
    "else :\n",
    "    print(\"Eligible to vote\")"
   ]
  },
  {
   "cell_type": "code",
   "execution_count": 21,
   "id": "7daad21e",
   "metadata": {},
   "outputs": [
    {
     "name": "stdout",
     "output_type": "stream",
     "text": [
      "end of my script\n"
     ]
    }
   ],
   "source": [
    "arr = [1,2,3,4,5]\n",
    "for item in arr:\n",
    "    #comment\n",
    "    pass\n",
    "print(\"end of my script\")\n"
   ]
  },
  {
   "cell_type": "code",
   "execution_count": 22,
   "id": "59a04876",
   "metadata": {},
   "outputs": [
    {
     "name": "stdout",
     "output_type": "stream",
     "text": [
      "S\n",
      "m\n",
      "m\n",
      "y\n"
     ]
    }
   ],
   "source": [
    "myString = \"Sammy\"\n",
    "for letter in myString:\n",
    "    if(letter == \"a\"):\n",
    "        continue\n",
    "    print(letter)"
   ]
  },
  {
   "cell_type": "code",
   "execution_count": 23,
   "id": "f30ddc20",
   "metadata": {},
   "outputs": [
    {
     "name": "stdout",
     "output_type": "stream",
     "text": [
      "0\n",
      "1\n"
     ]
    }
   ],
   "source": [
    "x = 0\n",
    "while x < 5:\n",
    "    if x == 2:\n",
    "        break\n",
    "    print(x)\n",
    "    x += 1"
   ]
  },
  {
   "cell_type": "code",
   "execution_count": 3,
   "id": "e3f2cf97",
   "metadata": {},
   "outputs": [
    {
     "name": "stdout",
     "output_type": "stream",
     "text": [
      "['h', 'e', 'l', 'l', 'o']\n"
     ]
    }
   ],
   "source": [
    "myString = \"hello\"\n",
    "myList = []\n",
    "for letter in myString:\n",
    "    myList.append(letter)\n",
    "print(myList)"
   ]
  },
  {
   "cell_type": "code",
   "execution_count": null,
   "id": "07691f9d",
   "metadata": {},
   "outputs": [
    {
     "name": "stdout",
     "output_type": "stream",
     "text": [
      "['h']\n",
      "['h', 'e']\n",
      "['h', 'e', 'l']\n",
      "['h', 'e', 'l', 'l']\n",
      "['h', 'e', 'l', 'l', 'o']\n"
     ]
    }
   ],
   "source": [
    "# pattern format\n",
    "\"\"\"\n",
    "['h']\n",
    "['h', 'e']\n",
    "['h', 'e', 'l']\n",
    "['h', 'e', 'l', 'l']\n",
    "['h', 'e', 'l', 'l', 'o']  \n",
    "\"\"\"\n",
    "\n",
    "myString = \"hello\"\n",
    "myList = []\n",
    "for letter in myString:\n",
    "    myList.append(letter)\n",
    "    print(myList)\n"
   ]
  }
 ],
 "metadata": {
  "kernelspec": {
   "display_name": "base",
   "language": "python",
   "name": "python3"
  },
  "language_info": {
   "codemirror_mode": {
    "name": "ipython",
    "version": 3
   },
   "file_extension": ".py",
   "mimetype": "text/x-python",
   "name": "python",
   "nbconvert_exporter": "python",
   "pygments_lexer": "ipython3",
   "version": "3.13.5"
  }
 },
 "nbformat": 4,
 "nbformat_minor": 5
}
