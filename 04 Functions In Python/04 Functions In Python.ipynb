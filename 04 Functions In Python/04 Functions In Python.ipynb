{
 "cells": [
  {
   "cell_type": "markdown",
   "id": "1a5be9ea",
   "metadata": {},
   "source": [
    "---\n",
    "Functions in python"
   ]
  },
  {
   "cell_type": "code",
   "execution_count": 1,
   "id": "24498c31",
   "metadata": {},
   "outputs": [
    {
     "name": "stdout",
     "output_type": "stream",
     "text": [
      "Hello, World!\n"
     ]
    }
   ],
   "source": [
    "def fun():\n",
    "    print(\"Hello, World!\")\n",
    "fun()"
   ]
  },
  {
   "cell_type": "markdown",
   "id": "04d9a4dd",
   "metadata": {},
   "source": [
    "---\n",
    "The 'return' keyword allows to save the result to a variable."
   ]
  },
  {
   "cell_type": "code",
   "execution_count": 8,
   "id": "2f02aed9",
   "metadata": {},
   "outputs": [],
   "source": [
    "def hardCodedAdd():\n",
    "    return 2 + 4"
   ]
  },
  {
   "cell_type": "code",
   "execution_count": 9,
   "id": "9014b166",
   "metadata": {},
   "outputs": [
    {
     "data": {
      "text/plain": [
       "6"
      ]
     },
     "execution_count": 9,
     "metadata": {},
     "output_type": "execute_result"
    }
   ],
   "source": [
    "hardCodedAdd()"
   ]
  },
  {
   "cell_type": "code",
   "execution_count": 10,
   "id": "b405ff99",
   "metadata": {},
   "outputs": [],
   "source": [
    "def add(num1, num2):\n",
    "    return num1 + num2"
   ]
  },
  {
   "cell_type": "code",
   "execution_count": 11,
   "id": "cb1c6a8a",
   "metadata": {},
   "outputs": [
    {
     "data": {
      "text/plain": [
       "41"
      ]
     },
     "execution_count": 11,
     "metadata": {},
     "output_type": "execute_result"
    }
   ],
   "source": [
    "add(int(input(\"Enter First number: \")), int(input(\"Enter Second number: \")))"
   ]
  },
  {
   "cell_type": "markdown",
   "id": "66e2348b",
   "metadata": {},
   "source": [
    "---\n",
    "'return False' Can't be used because it checks only the first element of the list"
   ]
  },
  {
   "cell_type": "code",
   "execution_count": 37,
   "id": "ad9dfc27",
   "metadata": {},
   "outputs": [],
   "source": [
    "def check_even_list(numList):\n",
    "    for num in numList:\n",
    "        if num % 2 == 0:\n",
    "            return True\n",
    "        else:\n",
    "            pass # return False\n",
    "    return False"
   ]
  },
  {
   "cell_type": "markdown",
   "id": "7c6d4022",
   "metadata": {},
   "source": [
    "if 'pass' is used in 'else' statement: It does nothing!"
   ]
  },
  {
   "cell_type": "code",
   "execution_count": 38,
   "id": "dbfc5805",
   "metadata": {},
   "outputs": [
    {
     "data": {
      "text/plain": [
       "True"
      ]
     },
     "execution_count": 38,
     "metadata": {},
     "output_type": "execute_result"
    }
   ],
   "source": [
    "check_even_list([1, 2, 3, 4, 5])"
   ]
  },
  {
   "cell_type": "code",
   "execution_count": 39,
   "id": "f0200147",
   "metadata": {},
   "outputs": [
    {
     "data": {
      "text/plain": [
       "True"
      ]
     },
     "execution_count": 39,
     "metadata": {},
     "output_type": "execute_result"
    }
   ],
   "source": [
    "check_even_list([1, 2, 3, 4])"
   ]
  },
  {
   "cell_type": "code",
   "execution_count": 41,
   "id": "ec841d4f",
   "metadata": {},
   "outputs": [
    {
     "data": {
      "text/plain": [
       "False"
      ]
     },
     "execution_count": 41,
     "metadata": {},
     "output_type": "execute_result"
    }
   ],
   "source": [
    "check_even_list([1, 3, 5, 7])"
   ]
  },
  {
   "cell_type": "markdown",
   "id": "ff72371d",
   "metadata": {},
   "source": [
    "'return False' should be in the 'for loop' section, not in the 'else' section because\n",
    "it checks only first element, when used in 'else' section"
   ]
  },
  {
   "cell_type": "markdown",
   "id": "03f0f35b",
   "metadata": {},
   "source": [
    "---"
   ]
  },
  {
   "cell_type": "code",
   "execution_count": 42,
   "id": "fba1a64b",
   "metadata": {},
   "outputs": [],
   "source": [
    "def check_even_list(numList):\n",
    "    even_list = []\n",
    "    \n",
    "    for num in numList:\n",
    "        if num % 2 == 0:\n",
    "            even_list.append(num)\n",
    "        else:\n",
    "            pass\n",
    "    return even_list"
   ]
  },
  {
   "cell_type": "code",
   "execution_count": null,
   "id": "a1608cb8",
   "metadata": {},
   "outputs": [
    {
     "data": {
      "text/plain": [
       "[2, 4]"
      ]
     },
     "execution_count": 43,
     "metadata": {},
     "output_type": "execute_result"
    }
   ],
   "source": [
    "check_even_list([1, 2, 3, 4, 5])"
   ]
  },
  {
   "cell_type": "code",
   "execution_count": null,
   "id": "4e4c3e70",
   "metadata": {},
   "outputs": [
    {
     "data": {
      "text/plain": [
       "[]"
      ]
     },
     "execution_count": 44,
     "metadata": {},
     "output_type": "execute_result"
    }
   ],
   "source": [
    "check_even_list([1, 3, 5, 7])"
   ]
  }
 ],
 "metadata": {
  "kernelspec": {
   "display_name": "base",
   "language": "python",
   "name": "python3"
  },
  "language_info": {
   "codemirror_mode": {
    "name": "ipython",
    "version": 3
   },
   "file_extension": ".py",
   "mimetype": "text/x-python",
   "name": "python",
   "nbconvert_exporter": "python",
   "pygments_lexer": "ipython3",
   "version": "3.13.5"
  }
 },
 "nbformat": 4,
 "nbformat_minor": 5
}
