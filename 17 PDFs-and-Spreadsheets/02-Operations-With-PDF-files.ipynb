{
 "cells": [
  {
   "cell_type": "markdown",
   "id": "38bef871",
   "metadata": {},
   "source": [
    "---\n",
    "Operations With PDF Files"
   ]
  },
  {
   "cell_type": "code",
   "execution_count": 1,
   "id": "329a67fe",
   "metadata": {},
   "outputs": [],
   "source": [
    "import pypdf"
   ]
  },
  {
   "cell_type": "markdown",
   "id": "b8a1ef0f",
   "metadata": {},
   "source": [
    "---\n",
    "Reading a pdf"
   ]
  },
  {
   "cell_type": "code",
   "execution_count": 2,
   "id": "dca3be02",
   "metadata": {},
   "outputs": [],
   "source": [
    "# rb --> read binary\n",
    "f = open('Working_Business_Proposal.pdf', 'rb')"
   ]
  },
  {
   "cell_type": "code",
   "execution_count": 3,
   "id": "d721c4cc",
   "metadata": {},
   "outputs": [],
   "source": [
    "pdf_reader = pypdf.PdfReader(f)"
   ]
  },
  {
   "cell_type": "code",
   "execution_count": 5,
   "id": "acbdc9ad",
   "metadata": {},
   "outputs": [
    {
     "data": {
      "text/plain": [
       "5"
      ]
     },
     "execution_count": 5,
     "metadata": {},
     "output_type": "execute_result"
    }
   ],
   "source": [
    "pdf_reader.get_num_pages()"
   ]
  },
  {
   "cell_type": "code",
   "execution_count": 8,
   "id": "4c14e679",
   "metadata": {},
   "outputs": [],
   "source": [
    "page_one = pdf_reader.get_page(0)"
   ]
  },
  {
   "cell_type": "code",
   "execution_count": 9,
   "id": "14a14dc0",
   "metadata": {},
   "outputs": [],
   "source": [
    "page_one_text = page_one.extract_text()"
   ]
  },
  {
   "cell_type": "code",
   "execution_count": 10,
   "id": "51faff8d",
   "metadata": {},
   "outputs": [
    {
     "data": {
      "text/plain": [
       "'Business Proposal  The Revolution is Coming \\nLeverage agile frameworks to provide a robust synopsis for high level \\noverviews. Iterative approaches to corporate strategy foster collaborative \\nthinking to further the overall value proposition. Organically grow the \\nholistic world view of disruptive innovation via workplace diversity and \\nempowerment. \\nBring to the table win-win survival strategies to ensure proactive \\ndomination. At the end of the day, going forward, a new normal that has \\nevolved from generation X is on the runway heading towards a streamlined \\ncloud solution. User generated content in real-time will have multiple \\ntouchpoints for offshoring. \\nCapitalize on low hanging fruit to identify a ballpark value added activity to \\nbeta test. Override the digital divide with additional clickthroughs from \\nDevOps. Nanotechnology immersion along the information highway will \\nclose the loop on focusing solely on the bottom line. \\nPodcasting operational change management inside of workﬂows to \\nestablish a framework. Taking seamless key performance indicators ofﬂine \\nto maximise the long tail. Keeping your eye on the ball while performing a \\ndeep dive on the start-up mentality to derive convergence on cross-\\nplatform integration. \\nCollaboratively administrate empowered markets via plug-and-play \\nnetworks. Dynamically procrastinate B2C users after installed base \\nbeneﬁts. Dramatically visualize customer directed convergence without \\nrevolutionary ROI. \\nEfﬁciently unleash cross-media information without cross-media value. \\nQuickly maximize timely deliverables for real-time schemas. Dramatically \\nmaintain clicks-and-mortar solutions without functional solutions. \\nBUSINESS PROPOSAL ! 1'"
      ]
     },
     "execution_count": 10,
     "metadata": {},
     "output_type": "execute_result"
    }
   ],
   "source": [
    "page_one_text"
   ]
  },
  {
   "cell_type": "code",
   "execution_count": 11,
   "id": "e326dadb",
   "metadata": {},
   "outputs": [],
   "source": [
    "f.close()"
   ]
  },
  {
   "cell_type": "markdown",
   "id": "e8fadb1e",
   "metadata": {},
   "source": [
    "---\n",
    "Adding pages to a pdf"
   ]
  },
  {
   "cell_type": "code",
   "execution_count": 13,
   "id": "28a58623",
   "metadata": {},
   "outputs": [],
   "source": [
    "f = open('Working_Business_Proposal.pdf', 'rb')\n",
    "pdf_reader = pypdf.PdfReader(f)"
   ]
  },
  {
   "cell_type": "code",
   "execution_count": 14,
   "id": "091a3f77",
   "metadata": {},
   "outputs": [],
   "source": [
    "first_page = pdf_reader.get_page(0)"
   ]
  },
  {
   "cell_type": "code",
   "execution_count": 15,
   "id": "68a7b67c",
   "metadata": {},
   "outputs": [],
   "source": [
    "pdf_writer = pypdf.PdfWriter()"
   ]
  },
  {
   "cell_type": "code",
   "execution_count": 16,
   "id": "6e77220e",
   "metadata": {},
   "outputs": [
    {
     "data": {
      "text/plain": [
       "pypdf._page.PageObject"
      ]
     },
     "execution_count": 16,
     "metadata": {},
     "output_type": "execute_result"
    }
   ],
   "source": [
    "type(first_page)"
   ]
  },
  {
   "cell_type": "code",
   "execution_count": 17,
   "id": "546b7aab",
   "metadata": {},
   "outputs": [
    {
     "data": {
      "text/plain": [
       "{'/Type': '/Page',\n",
       " '/Resources': {'/ProcSet': ['/PDF', '/Text'],\n",
       "  '/ColorSpace': {'/Cs1': ['/ICCBased', IndirectObject(7, 0, 2793118381264)]},\n",
       "  '/Font': {'/TT2': {'/Type': '/Font',\n",
       "    '/Subtype': '/TrueType',\n",
       "    '/BaseFont': '/URTVHR+Helvetica-Light',\n",
       "    '/FontDescriptor': {'/Type': '/FontDescriptor',\n",
       "     '/FontName': '/URTVHR+Helvetica-Light',\n",
       "     '/Flags': 32,\n",
       "     '/FontBBox': [-453, -355, 1345, 1206],\n",
       "     '/ItalicAngle': 0,\n",
       "     '/Ascent': 770,\n",
       "     '/Descent': -230,\n",
       "     '/CapHeight': 718,\n",
       "     '/StemV': 68,\n",
       "     '/XHeight': 524,\n",
       "     '/StemH': 58,\n",
       "     '/AvgWidth': 600,\n",
       "     '/MaxWidth': 1445,\n",
       "     '/FontFile2': {'/Length1': 13268, '/Filter': '/FlateDecode'}},\n",
       "    '/Encoding': '/MacRomanEncoding',\n",
       "    '/FirstChar': 32,\n",
       "    '/LastChar': 223,\n",
       "    '/Widths': [278,\n",
       "     0,\n",
       "     278,\n",
       "     0,\n",
       "     0,\n",
       "     0,\n",
       "     0,\n",
       "     0,\n",
       "     0,\n",
       "     0,\n",
       "     0,\n",
       "     0,\n",
       "     278,\n",
       "     333,\n",
       "     278,\n",
       "     278,\n",
       "     556,\n",
       "     0,\n",
       "     556,\n",
       "     0,\n",
       "     556,\n",
       "     0,\n",
       "     0,\n",
       "     556,\n",
       "     0,\n",
       "     0,\n",
       "     0,\n",
       "     0,\n",
       "     0,\n",
       "     0,\n",
       "     0,\n",
       "     0,\n",
       "     0,\n",
       "     667,\n",
       "     667,\n",
       "     722,\n",
       "     722,\n",
       "     611,\n",
       "     0,\n",
       "     778,\n",
       "     722,\n",
       "     278,\n",
       "     0,\n",
       "     667,\n",
       "     556,\n",
       "     0,\n",
       "     722,\n",
       "     778,\n",
       "     611,\n",
       "     778,\n",
       "     667,\n",
       "     611,\n",
       "     556,\n",
       "     722,\n",
       "     0,\n",
       "     0,\n",
       "     611,\n",
       "     0,\n",
       "     0,\n",
       "     0,\n",
       "     0,\n",
       "     0,\n",
       "     0,\n",
       "     0,\n",
       "     0,\n",
       "     556,\n",
       "     611,\n",
       "     556,\n",
       "     611,\n",
       "     556,\n",
       "     278,\n",
       "     611,\n",
       "     556,\n",
       "     222,\n",
       "     222,\n",
       "     500,\n",
       "     222,\n",
       "     833,\n",
       "     556,\n",
       "     556,\n",
       "     611,\n",
       "     611,\n",
       "     333,\n",
       "     500,\n",
       "     278,\n",
       "     556,\n",
       "     500,\n",
       "     722,\n",
       "     500,\n",
       "     500,\n",
       "     500,\n",
       "     0,\n",
       "     0,\n",
       "     0,\n",
       "     0,\n",
       "     0,\n",
       "     0,\n",
       "     0,\n",
       "     0,\n",
       "     0,\n",
       "     0,\n",
       "     0,\n",
       "     0,\n",
       "     0,\n",
       "     0,\n",
       "     0,\n",
       "     0,\n",
       "     0,\n",
       "     0,\n",
       "     0,\n",
       "     0,\n",
       "     0,\n",
       "     0,\n",
       "     0,\n",
       "     0,\n",
       "     0,\n",
       "     0,\n",
       "     0,\n",
       "     0,\n",
       "     0,\n",
       "     0,\n",
       "     0,\n",
       "     0,\n",
       "     0,\n",
       "     0,\n",
       "     0,\n",
       "     0,\n",
       "     0,\n",
       "     0,\n",
       "     0,\n",
       "     0,\n",
       "     0,\n",
       "     0,\n",
       "     0,\n",
       "     0,\n",
       "     0,\n",
       "     0,\n",
       "     0,\n",
       "     0,\n",
       "     0,\n",
       "     0,\n",
       "     0,\n",
       "     0,\n",
       "     0,\n",
       "     0,\n",
       "     0,\n",
       "     0,\n",
       "     0,\n",
       "     0,\n",
       "     0,\n",
       "     0,\n",
       "     0,\n",
       "     0,\n",
       "     0,\n",
       "     0,\n",
       "     0,\n",
       "     0,\n",
       "     0,\n",
       "     0,\n",
       "     0,\n",
       "     0,\n",
       "     0,\n",
       "     0,\n",
       "     0,\n",
       "     0,\n",
       "     0,\n",
       "     0,\n",
       "     0,\n",
       "     0,\n",
       "     0,\n",
       "     0,\n",
       "     0,\n",
       "     0,\n",
       "     0,\n",
       "     0,\n",
       "     0,\n",
       "     0,\n",
       "     0,\n",
       "     0,\n",
       "     0,\n",
       "     0,\n",
       "     0,\n",
       "     0,\n",
       "     0,\n",
       "     0,\n",
       "     0,\n",
       "     0,\n",
       "     0,\n",
       "     0,\n",
       "     0,\n",
       "     500,\n",
       "     500]},\n",
       "   '/TT1': {'/Type': '/Font',\n",
       "    '/Subtype': '/TrueType',\n",
       "    '/BaseFont': '/SLRTDM+Baskerville',\n",
       "    '/FontDescriptor': {'/Type': '/FontDescriptor',\n",
       "     '/FontName': '/SLRTDM+Baskerville',\n",
       "     '/Flags': 32,\n",
       "     '/FontBBox': [-506, -344, 1765, 961],\n",
       "     '/ItalicAngle': 0,\n",
       "     '/Ascent': 898,\n",
       "     '/Descent': -246,\n",
       "     '/CapHeight': 669,\n",
       "     '/StemV': 96,\n",
       "     '/XHeight': 400,\n",
       "     '/StemH': 22,\n",
       "     '/AvgWidth': 579,\n",
       "     '/MaxWidth': 1791,\n",
       "     '/FontFile2': {'/Length1': 5016, '/Filter': '/FlateDecode'}},\n",
       "    '/Encoding': '/MacRomanEncoding',\n",
       "    '/FirstChar': 32,\n",
       "    '/LastChar': 118,\n",
       "    '/Widths': [250,\n",
       "     0,\n",
       "     0,\n",
       "     0,\n",
       "     0,\n",
       "     0,\n",
       "     0,\n",
       "     0,\n",
       "     0,\n",
       "     0,\n",
       "     0,\n",
       "     0,\n",
       "     0,\n",
       "     0,\n",
       "     0,\n",
       "     0,\n",
       "     0,\n",
       "     500,\n",
       "     500,\n",
       "     500,\n",
       "     500,\n",
       "     500,\n",
       "     0,\n",
       "     0,\n",
       "     0,\n",
       "     0,\n",
       "     0,\n",
       "     0,\n",
       "     0,\n",
       "     0,\n",
       "     0,\n",
       "     0,\n",
       "     0,\n",
       "     677,\n",
       "     615,\n",
       "     719,\n",
       "     0,\n",
       "     625,\n",
       "     0,\n",
       "     0,\n",
       "     0,\n",
       "     354,\n",
       "     0,\n",
       "     0,\n",
       "     604,\n",
       "     0,\n",
       "     750,\n",
       "     823,\n",
       "     563,\n",
       "     0,\n",
       "     729,\n",
       "     542,\n",
       "     698,\n",
       "     771,\n",
       "     0,\n",
       "     0,\n",
       "     0,\n",
       "     0,\n",
       "     0,\n",
       "     0,\n",
       "     0,\n",
       "     0,\n",
       "     0,\n",
       "     0,\n",
       "     0,\n",
       "     469,\n",
       "     0,\n",
       "     0,\n",
       "     0,\n",
       "     438,\n",
       "     0,\n",
       "     469,\n",
       "     531,\n",
       "     250,\n",
       "     0,\n",
       "     0,\n",
       "     240,\n",
       "     802,\n",
       "     531,\n",
       "     500,\n",
       "     521,\n",
       "     0,\n",
       "     365,\n",
       "     333,\n",
       "     292,\n",
       "     521,\n",
       "     458]},\n",
       "   '/TT3': {'/Type': '/Font',\n",
       "    '/Subtype': '/TrueType',\n",
       "    '/BaseFont': '/VJMLYK+Baskerville',\n",
       "    '/FontDescriptor': {'/Type': '/FontDescriptor',\n",
       "     '/FontName': '/VJMLYK+Baskerville',\n",
       "     '/Flags': 4,\n",
       "     '/FontBBox': [-506, -344, 1765, 961],\n",
       "     '/ItalicAngle': 0,\n",
       "     '/Ascent': 898,\n",
       "     '/Descent': -246,\n",
       "     '/CapHeight': 669,\n",
       "     '/StemV': 96,\n",
       "     '/XHeight': 400,\n",
       "     '/StemH': 22,\n",
       "     '/AvgWidth': 579,\n",
       "     '/MaxWidth': 1791,\n",
       "     '/FontFile2': {'/Length1': 508, '/Filter': '/FlateDecode'}},\n",
       "    '/ToUnicode': {'/Filter': '/FlateDecode'},\n",
       "    '/FirstChar': 33,\n",
       "    '/LastChar': 33,\n",
       "    '/Widths': [0]}}},\n",
       " '/Contents': {'/Filter': '/FlateDecode'},\n",
       " '/MediaBox': [0, 0, 612, 792],\n",
       " '/Parent': {'/Type': '/Pages',\n",
       "  '/Count': 1,\n",
       "  '/Kids': [IndirectObject(4, 0, 2793118381264)]}}"
      ]
     },
     "execution_count": 17,
     "metadata": {},
     "output_type": "execute_result"
    }
   ],
   "source": [
    "pdf_writer.add_page(first_page)"
   ]
  },
  {
   "cell_type": "code",
   "execution_count": null,
   "id": "c8103877",
   "metadata": {},
   "outputs": [],
   "source": [
    "# wb --> write binary\n",
    "pdf_output = open('Some_BrandNew_Doc.pdf', 'wb')"
   ]
  },
  {
   "cell_type": "code",
   "execution_count": 19,
   "id": "1fb91f0f",
   "metadata": {},
   "outputs": [
    {
     "data": {
      "text/plain": [
       "(False, <_io.BufferedWriter name='Some_BrandNew_Doc.pdf'>)"
      ]
     },
     "execution_count": 19,
     "metadata": {},
     "output_type": "execute_result"
    }
   ],
   "source": [
    "pdf_writer.write(pdf_output)"
   ]
  },
  {
   "cell_type": "code",
   "execution_count": 20,
   "id": "487c30f2",
   "metadata": {},
   "outputs": [],
   "source": [
    "f.close()"
   ]
  },
  {
   "cell_type": "code",
   "execution_count": 21,
   "id": "ef9b3d4f",
   "metadata": {},
   "outputs": [],
   "source": [
    "pdf_output.close()"
   ]
  },
  {
   "cell_type": "markdown",
   "id": "052b36ef",
   "metadata": {},
   "source": [
    "---\n",
    "Grab the text from the pdf"
   ]
  },
  {
   "cell_type": "code",
   "execution_count": 28,
   "id": "fbddd71c",
   "metadata": {},
   "outputs": [],
   "source": [
    "f = open('Working_Business_Proposal.pdf', 'rb')\n",
    "\n",
    "pdf_text = []\n",
    "\n",
    "pdf_reader = pypdf.PdfReader(f)\n",
    "\n",
    "for num in range(pdf_reader.get_num_pages()):\n",
    "    page = pdf_reader.get_page(num)\n",
    "    \n",
    "    pdf_text.append(page.extract_text())"
   ]
  },
  {
   "cell_type": "code",
   "execution_count": 29,
   "id": "99e7c45b",
   "metadata": {},
   "outputs": [
    {
     "data": {
      "text/plain": [
       "['Business Proposal  The Revolution is Coming \\nLeverage agile frameworks to provide a robust synopsis for high level \\noverviews. Iterative approaches to corporate strategy foster collaborative \\nthinking to further the overall value proposition. Organically grow the \\nholistic world view of disruptive innovation via workplace diversity and \\nempowerment. \\nBring to the table win-win survival strategies to ensure proactive \\ndomination. At the end of the day, going forward, a new normal that has \\nevolved from generation X is on the runway heading towards a streamlined \\ncloud solution. User generated content in real-time will have multiple \\ntouchpoints for offshoring. \\nCapitalize on low hanging fruit to identify a ballpark value added activity to \\nbeta test. Override the digital divide with additional clickthroughs from \\nDevOps. Nanotechnology immersion along the information highway will \\nclose the loop on focusing solely on the bottom line. \\nPodcasting operational change management inside of workﬂows to \\nestablish a framework. Taking seamless key performance indicators ofﬂine \\nto maximise the long tail. Keeping your eye on the ball while performing a \\ndeep dive on the start-up mentality to derive convergence on cross-\\nplatform integration. \\nCollaboratively administrate empowered markets via plug-and-play \\nnetworks. Dynamically procrastinate B2C users after installed base \\nbeneﬁts. Dramatically visualize customer directed convergence without \\nrevolutionary ROI. \\nEfﬁciently unleash cross-media information without cross-media value. \\nQuickly maximize timely deliverables for real-time schemas. Dramatically \\nmaintain clicks-and-mortar solutions without functional solutions. \\nBUSINESS PROPOSAL ! 1',\n",
       " 'Completely synergize resource taxing relationships via premier niche \\nmarkets. Professionally cultivate one-to-one customer service with robust \\nideas. Dynamically innovate resource-leveling customer service for state of \\nthe art customer service. \\nObjectively innovate empowered manufactured products whereas parallel \\nplatforms. Holisticly predominate extensible testing procedures for reliable \\nsupply chains. Dramatically engage top-line web services vis-a-vis \\ncutting-edge deliverables. \\nProactively envisioned multimedia based expertise and cross-media \\ngrowth strategies. Seamlessly visualize quality intellectual capital without \\nsuperior collaboration and idea-sharing. Holistically pontiﬁcate installed \\nbase portals after maintainable products. \\nPhosﬂuorescently engage worldwide methodologies with web-enabled \\ntechnology. Interactively coordinate proactive e-commerce via process-\\ncentric \"outside the box\" thinking. Completely pursue scalable customer \\nservice through sustainable potentialities. \\nCollaboratively administrate turnkey channels whereas virtual e-tailers. \\nObjectively seize scalable metrics whereas proactive e-services. \\nSeamlessly empower fully researched growth strategies and interoperable \\ninternal or \"organic\" sources. \\nCredibly innovate granular internal or \"organic\" sources whereas high \\nstandards in web-readiness. Energistically scale future-proof core \\ncompetencies vis-a-vis impactful experiences. Dramatically synthesize \\nintegrated schemas with optimal networks. \\nInteractively procrastinate high-payoff content without backward-\\ncompatible data. Quickly cultivate optimal processes and tactical \\narchitectures. Completely iterate covalent strategic theme areas via \\naccurate e-markets. \\nGlobally incubate standards compliant channels before scalable beneﬁts. \\nQuickly disseminate superior deliverables whereas web-enabled \\nBUSINESS PROPOSAL ! 2',\n",
       " 'applications. Quickly drive clicks-and-mortar catalysts for change before \\nvertical architectures. \\nCredibly reintermediate backend ideas for cross-platform models. \\nContinually reintermediate integrated processes through technically sound \\nintellectual capital. Holistically foster superior methodologies without \\nmarket-driven best practices. \\nDistinctively exploit optimal alignments for intuitive bandwidth. Quickly \\ncoordinate e-business applications through revolutionary catalysts for \\nchange. Seamlessly underwhelm optimal testing procedures whereas \\nbricks-and-clicks processes. \\nSynergistically evolve 2.0 technologies rather than just in time initiatives. \\nQuickly deploy strategic networks with compelling e-business. Credibly \\npontiﬁcate highly efﬁcient manufactured products and enabled data. \\nDynamically target high-payoff intellectual capital for customized \\ntechnologies. Objectively integrate emerging core competencies before \\nprocess-centric communities. Dramatically evisculate holistic innovation \\nrather than client-centric data. \\nProgressively maintain extensive infomediaries via extensible niches. \\nDramatically disseminate standardized metrics after resource-leveling \\nprocesses. Objectively pursue diverse catalysts for change for \\ninteroperable meta-services. \\nProactively fabricate one-to-one materials via effective e-business. \\nCompletely synergize scalable e-commerce rather than high standards in \\ne-services. Assertively iterate resource maximizing products after leading-\\nedge intellectual capital. \\nDistinctively re-engineer revolutionary meta-services and premium \\narchitectures. Intrinsically incubate intuitive opportunities and real-time \\npotentialities. Appropriately communicate one-to-one technology after \\nplug-and-play networks. \\nQuickly aggregate B2B users and worldwide potentialities. Progressively \\nplagiarize resource-leveling e-commerce through resource-leveling core \\nBUSINESS PROPOSAL ! 3',\n",
       " 'competencies. Dramatically mesh low-risk high-yield alignments before \\ntransparent e-tailers. \\nAppropriately empower dynamic leadership skills after business portals. \\nGlobally myocardinate interactive supply chains with distinctive quality \\nvectors. Globally revolutionize global sources through interoperable \\nservices. \\nEnthusiastically mesh long-term high-impact infrastructures vis-a-vis \\nefﬁcient customer service. Professionally fashion wireless leadership rather \\nthan prospective experiences. Energistically myocardinate clicks-and-\\nmortar testing procedures whereas next-generation manufactured \\nproducts. \\nDynamically reinvent market-driven opportunities and ubiquitous \\ninterfaces. Energistically fabricate an expanded array of niche markets \\nthrough robust products. Appropriately implement visionary e-services vis-\\na-vis strategic web-readiness. \\nCompellingly embrace empowered e-business after user friendly \\nintellectual capital. Interactively actualize front-end processes with \\neffective convergence. Synergistically deliver performance based \\nmethods of empowerment whereas distributed expertise. \\nEfﬁciently enable enabled sources and cost effective products. \\nCompletely synthesize principle-centered information after ethical \\ncommunities. Efﬁciently innovate open-source infrastructures via \\ninexpensive materials. \\nObjectively integrate enterprise-wide strategic theme areas with \\nfunctionalized infrastructures. Interactively productize premium \\ntechnologies whereas interdependent quality vectors. Rapaciously utilize \\nenterprise experiences via 24/7 markets. \\nUniquely matrix economically sound value through cooperative \\ntechnology. Competently parallel task fully researched data and enterprise \\nprocess improvements. Collaboratively expedite quality manufactured \\nproducts via client-focused results. \\nBUSINESS PROPOSAL ! 4',\n",
       " 'Quickly communicate enabled technology and turnkey leadership skills. \\nUniquely enable accurate supply chains rather than frictionless \\ntechnology. Globally network focused materials vis-a-vis cost effective \\nmanufactured products. \\nBUSINESS PROPOSAL ! 5']"
      ]
     },
     "execution_count": 29,
     "metadata": {},
     "output_type": "execute_result"
    }
   ],
   "source": [
    "pdf_text"
   ]
  },
  {
   "cell_type": "code",
   "execution_count": 31,
   "id": "ee902b05",
   "metadata": {},
   "outputs": [
    {
     "name": "stdout",
     "output_type": "stream",
     "text": [
      "Completely synergize resource taxing relationships via premier niche \n",
      "markets. Professionally cultivate one-to-one customer service with robust \n",
      "ideas. Dynamically innovate resource-leveling customer service for state of \n",
      "the art customer service. \n",
      "Objectively innovate empowered manufactured products whereas parallel \n",
      "platforms. Holisticly predominate extensible testing procedures for reliable \n",
      "supply chains. Dramatically engage top-line web services vis-a-vis \n",
      "cutting-edge deliverables. \n",
      "Proactively envisioned multimedia based expertise and cross-media \n",
      "growth strategies. Seamlessly visualize quality intellectual capital without \n",
      "superior collaboration and idea-sharing. Holistically pontiﬁcate installed \n",
      "base portals after maintainable products. \n",
      "Phosﬂuorescently engage worldwide methodologies with web-enabled \n",
      "technology. Interactively coordinate proactive e-commerce via process-\n",
      "centric \"outside the box\" thinking. Completely pursue scalable customer \n",
      "service through sustainable potentialities. \n",
      "Collaboratively administrate turnkey channels whereas virtual e-tailers. \n",
      "Objectively seize scalable metrics whereas proactive e-services. \n",
      "Seamlessly empower fully researched growth strategies and interoperable \n",
      "internal or \"organic\" sources. \n",
      "Credibly innovate granular internal or \"organic\" sources whereas high \n",
      "standards in web-readiness. Energistically scale future-proof core \n",
      "competencies vis-a-vis impactful experiences. Dramatically synthesize \n",
      "integrated schemas with optimal networks. \n",
      "Interactively procrastinate high-payoff content without backward-\n",
      "compatible data. Quickly cultivate optimal processes and tactical \n",
      "architectures. Completely iterate covalent strategic theme areas via \n",
      "accurate e-markets. \n",
      "Globally incubate standards compliant channels before scalable beneﬁts. \n",
      "Quickly disseminate superior deliverables whereas web-enabled \n",
      "BUSINESS PROPOSAL ! 2\n"
     ]
    }
   ],
   "source": [
    "print(pdf_text[1])"
   ]
  },
  {
   "cell_type": "code",
   "execution_count": null,
   "id": "1b4af628",
   "metadata": {},
   "outputs": [],
   "source": []
  }
 ],
 "metadata": {
  "kernelspec": {
   "display_name": "base",
   "language": "python",
   "name": "python3"
  },
  "language_info": {
   "codemirror_mode": {
    "name": "ipython",
    "version": 3
   },
   "file_extension": ".py",
   "mimetype": "text/x-python",
   "name": "python",
   "nbconvert_exporter": "python",
   "pygments_lexer": "ipython3",
   "version": "3.13.5"
  }
 },
 "nbformat": 4,
 "nbformat_minor": 5
}
