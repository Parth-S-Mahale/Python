{
 "cells": [
  {
   "cell_type": "markdown",
   "id": "0c11100b",
   "metadata": {},
   "source": [
    "---\n",
    "Special Methods"
   ]
  },
  {
   "cell_type": "code",
   "execution_count": 1,
   "id": "57e947d4",
   "metadata": {},
   "outputs": [],
   "source": [
    "class Book():\n",
    "    \n",
    "    def __init__(self, title, author, pages):\n",
    "        self.title = title\n",
    "        self.author = author\n",
    "        self.pages = pages\n",
    "        \n",
    "    def __str__(self):\n",
    "        return f\"{self.title} by {self.author} having {self.pages} pages\"\n",
    "    \n",
    "    def __len__(self):\n",
    "        return self.pages\n",
    "    \n",
    "    def __del__(self):\n",
    "        print(\"A book object has been deleted!\")"
   ]
  },
  {
   "cell_type": "code",
   "execution_count": 2,
   "id": "ae77e3fa",
   "metadata": {},
   "outputs": [],
   "source": [
    "b = Book('Python rocks', 'Jose', 200)"
   ]
  },
  {
   "cell_type": "code",
   "execution_count": 3,
   "id": "3fcb33c6",
   "metadata": {},
   "outputs": [
    {
     "name": "stdout",
     "output_type": "stream",
     "text": [
      "title: Python rocks \n",
      "author: Jose \n",
      "pages: 200\n"
     ]
    }
   ],
   "source": [
    "print('title: {} \\nauthor: {} \\npages: {}'.format(b.title,b.author, b.pages))"
   ]
  },
  {
   "cell_type": "code",
   "execution_count": 4,
   "id": "4c89b7bd",
   "metadata": {},
   "outputs": [
    {
     "name": "stdout",
     "output_type": "stream",
     "text": [
      "Python rocks by Jose having 200 pages\n"
     ]
    }
   ],
   "source": [
    "print(b)"
   ]
  },
  {
   "cell_type": "code",
   "execution_count": 5,
   "id": "13e5a68e",
   "metadata": {},
   "outputs": [
    {
     "data": {
      "text/plain": [
       "200"
      ]
     },
     "execution_count": 5,
     "metadata": {},
     "output_type": "execute_result"
    }
   ],
   "source": [
    "len(b)"
   ]
  },
  {
   "cell_type": "code",
   "execution_count": 6,
   "id": "08f50469",
   "metadata": {},
   "outputs": [
    {
     "name": "stdout",
     "output_type": "stream",
     "text": [
      "A book object has been deleted!\n"
     ]
    }
   ],
   "source": [
    "# to delete variables completely from your computer's memory\n",
    "del b"
   ]
  },
  {
   "cell_type": "code",
   "execution_count": 7,
   "id": "20f5c5c8",
   "metadata": {},
   "outputs": [
    {
     "ename": "NameError",
     "evalue": "name 'b' is not defined",
     "output_type": "error",
     "traceback": [
      "\u001b[1;31m---------------------------------------------------------------------------\u001b[0m",
      "\u001b[1;31mNameError\u001b[0m                                 Traceback (most recent call last)",
      "Cell \u001b[1;32mIn[7], line 1\u001b[0m\n\u001b[1;32m----> 1\u001b[0m b\n",
      "\u001b[1;31mNameError\u001b[0m: name 'b' is not defined"
     ]
    }
   ],
   "source": [
    "b"
   ]
  },
  {
   "cell_type": "code",
   "execution_count": null,
   "id": "18d0421b",
   "metadata": {},
   "outputs": [],
   "source": []
  },
  {
   "cell_type": "code",
   "execution_count": null,
   "id": "048a1644",
   "metadata": {},
   "outputs": [],
   "source": []
  }
 ],
 "metadata": {
  "kernelspec": {
   "display_name": "base",
   "language": "python",
   "name": "python3"
  },
  "language_info": {
   "codemirror_mode": {
    "name": "ipython",
    "version": 3
   },
   "file_extension": ".py",
   "mimetype": "text/x-python",
   "name": "python",
   "nbconvert_exporter": "python",
   "pygments_lexer": "ipython3",
   "version": "3.13.5"
  }
 },
 "nbformat": 4,
 "nbformat_minor": 5
}
